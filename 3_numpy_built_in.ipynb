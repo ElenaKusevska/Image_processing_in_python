{
 "cells": [
  {
   "cell_type": "markdown",
   "metadata": {},
   "source": [
    "<p style = \"font-weight: bold; font-size:2vw; line-height: 1.6; background-color:#c4a9b8;\"> Built-in functions for image processing with numpy </p>"
   ]
  },
  {
   "cell_type": "code",
   "execution_count": 1,
   "metadata": {},
   "outputs": [],
   "source": [
    "from PIL import Image\n",
    "import numpy\n",
    "\n",
    "pic = Image.open(\"a.jpg\")"
   ]
  },
  {
   "cell_type": "code",
   "execution_count": 2,
   "metadata": {},
   "outputs": [],
   "source": [
    "# Convert to grayscale:\n",
    "pixel_array_grayscale = numpy.array(pic.convert('L'))\n",
    "pic_grayscale = Image.fromarray(pixel_array_grayscale).save('a_gr.png')"
   ]
  },
  {
   "cell_type": "code",
   "execution_count": 3,
   "metadata": {},
   "outputs": [
    {
     "name": "stdout",
     "output_type": "stream",
     "text": [
      "After resizing: (200, 200, 3)\n"
     ]
    }
   ],
   "source": [
    "# Resize image\n",
    "pixel_array_resize = numpy.array(pic.resize((200,200)))\n",
    "print(\"After resizing:\",pixel_array_resize.shape)\n",
    "pic_resize = Image.fromarray(pixel_array_resize).save('a_resize.png')"
   ]
  },
  {
   "cell_type": "code",
   "execution_count": 4,
   "metadata": {},
   "outputs": [
    {
     "name": "stdout",
     "output_type": "stream",
     "text": [
      "Before trimming: (480, 852, 3)\n",
      "After trimming: (256, 256, 3)\n"
     ]
    }
   ],
   "source": [
    "# Trim image\n",
    "pixel_array = numpy.array(pic)\n",
    "print(\"Before trimming:\", pixel_array.shape)\n",
    "pixel_array_trim = numpy.array(pic)[128:384, 128:384]\n",
    "print(\"After trimming:\",pixel_array_trim.shape)\n",
    "\n",
    "Image.fromarray(pixel_array_trim).save('a_trim.png')"
   ]
  },
  {
   "cell_type": "code",
   "execution_count": null,
   "metadata": {},
   "outputs": [],
   "source": []
  }
 ],
 "metadata": {
  "kernelspec": {
   "display_name": "Python 3",
   "language": "python",
   "name": "python3"
  },
  "language_info": {
   "codemirror_mode": {
    "name": "ipython",
    "version": 3
   },
   "file_extension": ".py",
   "mimetype": "text/x-python",
   "name": "python",
   "nbconvert_exporter": "python",
   "pygments_lexer": "ipython3",
   "version": "3.6.9"
  }
 },
 "nbformat": 4,
 "nbformat_minor": 4
}
